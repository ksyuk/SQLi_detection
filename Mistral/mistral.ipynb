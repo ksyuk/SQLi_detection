{
 "cells": [
  {
   "cell_type": "code",
   "execution_count": 2,
   "metadata": {},
   "outputs": [],
   "source": [
    "import time\n",
    "\n",
    "import transformers\n",
    "from transformers import AutoTokenizer\n",
    "import torch\n",
    "\n",
    "from utils import load_dataset, calculate_classification_metric, write_classification_metric"
   ]
  },
  {
   "cell_type": "code",
   "execution_count": null,
   "metadata": {},
   "outputs": [],
   "source": [
    "device = torch.device('mps' if torch.backends.mps.is_available() else 'cpu')\n",
    "device = torch.device('cuda' if torch.cuda.is_available() else device)"
   ]
  },
  {
   "cell_type": "code",
   "execution_count": null,
   "metadata": {},
   "outputs": [],
   "source": [
    "dataset = load_dataset('./../dataset/test.csv')"
   ]
  },
  {
   "cell_type": "code",
   "execution_count": null,
   "metadata": {},
   "outputs": [],
   "source": [
    "model = 'mistralai/Mistral-7B-Instruct-v0.2'"
   ]
  },
  {
   "cell_type": "code",
   "execution_count": null,
   "metadata": {},
   "outputs": [],
   "source": [
    "tokenizer = AutoTokenizer.from_pretrained(model)\n",
    "model = transformers.AutoModelForCausalLM.from_pretrained(model).to(device)"
   ]
  },
  {
   "cell_type": "code",
   "execution_count": null,
   "metadata": {},
   "outputs": [],
   "source": [
    "classification_counts = {\n",
    "    'true_positives': 0,\n",
    "    'false_positives': 0,\n",
    "    'true_negatives': 0,\n",
    "    'false_negatives': 0\n",
    "}\n",
    "inference_time = []\n",
    "labels = []\n",
    "raw_queries = []\n",
    "preds = []\n",
    "\n",
    "config = transformers.GenerationConfig(temperature=0.1)\n",
    "prompt=[\n",
    "    {\n",
    "        'role': 'system',\n",
    "        'content': '\\\n",
    "            You will be provided with a string. \\\n",
    "            Distinguish if the string causes SQL injection \\\n",
    "            as a web security specialist. \\\n",
    "            If the string can cause SQL injection, return 1. If not, return 0.\\\n",
    "            Return only 1 or 0 for answer.'\n",
    "    }\n",
    "]\n",
    "\n",
    "for query, label in dataset:\n",
    "    prompt.append({\n",
    "        'role': 'user',\n",
    "        'content': query\n",
    "    })\n",
    "    tokenized_prompt = tokenizer.apply_chat_template(prompt, add_generation_prompt=True, return_tensors=\"pt\").to(device)\n",
    "\n",
    "    start_time = time.time()\n",
    "    outputs = model.generate(tokenized_prompt, config)\n",
    "    inference_time.append(time.time() - start_time)\n",
    "\n",
    "    print(outputs)\n",
    "\n",
    "    labels.append(label)\n",
    "    raw_queries.append(query)\n",
    "    preds.append()\n",
    "\n",
    "calculate_classification_metric(classification_counts, labels, preds, raw_queries)\n",
    "write_classification_metric(classification_counts, inference_time)"
   ]
  }
 ],
 "metadata": {
  "kernelspec": {
   "display_name": "venv",
   "language": "python",
   "name": "python3"
  },
  "language_info": {
   "codemirror_mode": {
    "name": "ipython",
    "version": 3
   },
   "file_extension": ".py",
   "mimetype": "text/x-python",
   "name": "python",
   "nbconvert_exporter": "python",
   "pygments_lexer": "ipython3",
   "version": "3.11.2"
  }
 },
 "nbformat": 4,
 "nbformat_minor": 2
}
