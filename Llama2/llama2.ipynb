{
 "cells": [
  {
   "cell_type": "code",
   "execution_count": 2,
   "metadata": {},
   "outputs": [],
   "source": [
    "import sys\n",
    "import time\n",
    "sys.path.insert(0, './..')\n",
    "\n",
    "import transformers\n",
    "from transformers import AutoTokenizer\n",
    "\n",
    "from utils import load_dataset, calculate_classification_metric, plot_inference_time_histogram, write_classification_metric"
   ]
  },
  {
   "cell_type": "code",
   "execution_count": null,
   "metadata": {},
   "outputs": [],
   "source": [
    "dataset = load_dataset('./../dataset/test.csv')"
   ]
  },
  {
   "cell_type": "code",
   "execution_count": null,
   "metadata": {},
   "outputs": [],
   "source": [
    "model = 'meta-llama/Llama-2-7b-chat-hf'"
   ]
  },
  {
   "cell_type": "code",
   "execution_count": null,
   "metadata": {},
   "outputs": [],
   "source": [
    "tokenizer = AutoTokenizer.from_pretrained(model, device_map='auto')\n",
    "model = transformers.AutoModelForCausalLM.from_pretrained(model, device_map='auto')"
   ]
  },
  {
   "cell_type": "code",
   "execution_count": null,
   "metadata": {},
   "outputs": [],
   "source": [
    "classification_counts = {\n",
    "    'true_positives': 0,\n",
    "    'false_positives': 0,\n",
    "    'true_negatives': 0,\n",
    "    'false_negatives': 0\n",
    "}\n",
    "inference_time = []\n",
    "labels = []\n",
    "raw_queries = []\n",
    "preds = []\n",
    "\n",
    "for i, (query, label) in enumerate(dataset):\n",
    "    prompt=[\n",
    "        {\n",
    "            'role': 'user',\n",
    "            'content': f'string: \\' or \\'a\\' = \\'a \\n. Distinguish if the string causes SQL injection as a web security specialist. If the string can cause SQL injection, return 1. If not, return 0. Return for answer. Do not include an explanation in your answer. Return:'\n",
    "        },\n",
    "        {\n",
    "            'role': 'assistant',\n",
    "            'content': '1'\n",
    "        },\n",
    "        {\n",
    "            'role': 'user',\n",
    "            'content': f'string: {query}. Distinguish if the string causes SQL injection as a web security specialist. If the string can cause SQL injection, return 1. If not, return 0. Return for answer. Do not include an explanation in your answer. Return:'\n",
    "        }\n",
    "    ]\n",
    "\n",
    "    tokenized_prompt = tokenizer.apply_chat_template(prompt, add_generation_prompt=True, return_tensors=\"pt\")\n",
    "\n",
    "    start_time = time.time()\n",
    "    outputs = model.generate(tokenized_prompt, do_sample=True, max_length=300, temperature=0.1, pad_token_id=tokenizer.eos_token_id)\n",
    "    inference_time.append(time.time() - start_time)\n",
    "\n",
    "    response = tokenizer.batch_decode(outputs, skip_special_tokens=True)[0]\n",
    "\n",
    "    labels.append(int(label))\n",
    "    raw_queries.append(query)\n",
    "    try:\n",
    "        if response[-1] == '.':\n",
    "            preds.append(0)\n",
    "        else:\n",
    "            preds.append(int(response[-1]))\n",
    "    except ValueError:\n",
    "        preds.append('N/A')\n",
    "\n",
    "calculate_classification_metric(classification_counts, labels, preds, raw_queries)\n",
    "write_classification_metric(classification_counts, inference_time)\n",
    "plot_inference_time_histogram(inference_time)"
   ]
  }
 ],
 "metadata": {
  "kernelspec": {
   "display_name": "venv",
   "language": "python",
   "name": "python3"
  },
  "language_info": {
   "codemirror_mode": {
    "name": "ipython",
    "version": 3
   },
   "file_extension": ".py",
   "mimetype": "text/x-python",
   "name": "python",
   "nbconvert_exporter": "python",
   "pygments_lexer": "ipython3",
   "version": "3.11.2"
  }
 },
 "nbformat": 4,
 "nbformat_minor": 2
}
