{
 "cells": [
  {
   "cell_type": "code",
   "execution_count": null,
   "metadata": {},
   "outputs": [],
   "source": [
    "import collections\n",
    "import sys\n",
    "sys.path.insert(0, '../')\n",
    "\n",
    "import torch\n",
    "import torchtext\n",
    "import torch.nn as nn\n",
    "import torch.optim as optim\n",
    "from torch.utils.data import DataLoader\n",
    "\n",
    "from utils import load_dataset, count_model_parameters, train_model, test_model"
   ]
  },
  {
   "cell_type": "code",
   "execution_count": null,
   "metadata": {},
   "outputs": [],
   "source": [
    "device = torch.device('mps' if torch.backends.mps.is_available() else 'cpu')\n",
    "device = torch.device('cuda' if torch.cuda.is_available() else device)"
   ]
  },
  {
   "cell_type": "code",
   "execution_count": null,
   "metadata": {},
   "outputs": [],
   "source": [
    "dataset = {\n",
    "    'all': load_dataset('../dataset/dataset.csv'),\n",
    "    'train': load_dataset('../dataset/train.csv'),\n",
    "    'val': load_dataset('../dataset/validation.csv'),\n",
    "    'test': load_dataset('../dataset/test.csv'),\n",
    "}\n",
    "train_size = len(dataset['train'])"
   ]
  },
  {
   "cell_type": "code",
   "execution_count": null,
   "metadata": {},
   "outputs": [],
   "source": [
    "tokenizer = torchtext.data.get_tokenizer('basic_english')\n",
    "\n",
    "def create_vocab(dataset):\n",
    "    counter = collections.Counter()\n",
    "    for query, _ in dataset:\n",
    "        counter.update(tokenizer(query))\n",
    "    return torchtext.vocab.vocab(counter, min_freq=1)\n",
    "\n",
    "vocab = create_vocab(dataset['all'])\n",
    "vocab_size = len(vocab)"
   ]
  },
  {
   "cell_type": "code",
   "execution_count": null,
   "metadata": {},
   "outputs": [],
   "source": [
    "batch_size = 16\n",
    "\n",
    "def pad_tensor(tensor, length):\n",
    "    return torch.nn.functional.pad(tensor, (0, length - len(tensor)), mode='constant', value=0)\n",
    "\n",
    "def process_batch(batch):\n",
    "    tokens = [tokenizer(query) for query, _ in batch]\n",
    "    encoded_tokens = [vocab.lookup_indices(token) for token in tokens]\n",
    "    max_len = max(map(len, tokens))\n",
    "\n",
    "    labels = []\n",
    "    for _, label in batch:\n",
    "        labels.append(int(label))\n",
    "\n",
    "    padded_tensors = []\n",
    "    for encoded_token in encoded_tokens:\n",
    "        padded_tensors.append(pad_tensor(torch.LongTensor(encoded_token), max_len))\n",
    "    stacked_tensors = torch.stack(padded_tensors)\n",
    "\n",
    "    return (stacked_tensors.to(device), torch.LongTensor(labels).to(device))\n",
    "\n",
    "train_loader = DataLoader(dataset['train'], batch_size=batch_size, collate_fn=process_batch, shuffle=True)\n",
    "val_loader = DataLoader(dataset['val'], batch_size=batch_size, collate_fn=process_batch, shuffle=True)"
   ]
  },
  {
   "cell_type": "code",
   "execution_count": null,
   "metadata": {},
   "outputs": [],
   "source": [
    "class BiLSTMClassifier(nn.Module):\n",
    "    def __init__(self):\n",
    "        super(BiLSTMClassifier, self).__init__()\n",
    "        self.embedding = torch.nn.Embedding(num_embeddings=vocab_size, embedding_dim=128)\n",
    "        self.bilstm = torch.nn.LSTM(128, 64, batch_first=True, bidirectional=True, num_layers=2)\n",
    "        self.fc = nn.Linear(64, 2)\n",
    "\n",
    "    def forward(self, x):\n",
    "        x = self.embedding(x)\n",
    "        _, (x, _) = self.bilstm(x)\n",
    "        x = torch.mean(x[2:4, :, :], dim=0)\n",
    "        x = self.fc(x)\n",
    "\n",
    "        return x\n",
    "\n",
    "model = BiLSTMClassifier().to(device)"
   ]
  },
  {
   "cell_type": "code",
   "execution_count": null,
   "metadata": {},
   "outputs": [],
   "source": [
    "hyperparameters = {\n",
    "    'epoch': 5,\n",
    "    'optimizer': optim.SGD(model.parameters(), lr=0.01),\n",
    "    'lr_scheduler': None,\n",
    "    'loss_fn': nn.CrossEntropyLoss()\n",
    "}\n",
    "\n",
    "train_model(model, train_loader, val_loader, train_size, 180, hyperparameters)"
   ]
  },
  {
   "cell_type": "code",
   "execution_count": null,
   "metadata": {},
   "outputs": [],
   "source": [
    "# load model\n",
    "model = BiLSTMClassifier()\n",
    "model.load_state_dict(torch.load('model.pth'))\n",
    "model = model.to(device)"
   ]
  },
  {
   "cell_type": "code",
   "execution_count": null,
   "metadata": {},
   "outputs": [],
   "source": [
    "count_model_parameters(model)"
   ]
  },
  {
   "cell_type": "code",
   "execution_count": null,
   "metadata": {},
   "outputs": [],
   "source": [
    "def process_test_batch(batch):\n",
    "    raw_queries = [query for query, _ in batch]\n",
    "    tokens = [tokenizer(query) for query, _ in batch]\n",
    "    encoded_tokens = [vocab.lookup_indices(token) for token in tokens]\n",
    "    max_len = max(map(len, tokens))\n",
    "\n",
    "    labels = []\n",
    "    for _, label in batch:\n",
    "        labels.append(int(label))\n",
    "\n",
    "    padded_tensors = []\n",
    "    for encoded_token in encoded_tokens:\n",
    "        padded_tensors.append(pad_tensor(torch.LongTensor(encoded_token), max_len))\n",
    "    stacked_tensors = torch.stack(padded_tensors)\n",
    "\n",
    "    return (stacked_tensors.to(device), torch.LongTensor(labels).to(device), raw_queries.to(device))\n",
    "\n",
    "test_loader = DataLoader(dataset['test'], batch_size=128, collate_fn=process_test_batch, shuffle=True)\n",
    "test_model(model, test_loader)"
   ]
  }
 ],
 "metadata": {
  "kernelspec": {
   "display_name": "venv",
   "language": "python",
   "name": "python3"
  },
  "language_info": {
   "codemirror_mode": {
    "name": "ipython",
    "version": 3
   },
   "file_extension": ".py",
   "mimetype": "text/x-python",
   "name": "python",
   "nbconvert_exporter": "python",
   "pygments_lexer": "ipython3",
   "version": "3.11.2"
  }
 },
 "nbformat": 4,
 "nbformat_minor": 2
}
