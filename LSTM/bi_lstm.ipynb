{
 "cells": [
  {
   "cell_type": "code",
   "execution_count": null,
   "metadata": {},
   "outputs": [],
   "source": [
    "import sys\n",
    "import collections\n",
    "sys.path.insert(0, '../')\n",
    "\n",
    "import torch\n",
    "import torchtext\n",
    "import torch.nn as nn\n",
    "import torch.optim as optim\n",
    "import torch.nn.functional as F\n",
    "from torch.utils.data import DataLoader\n",
    "\n",
    "from utils import load_dataset, train, test"
   ]
  },
  {
   "cell_type": "code",
   "execution_count": null,
   "metadata": {},
   "outputs": [],
   "source": [
    "device = torch.device(\"mps\" if torch.backends.mps.is_available() else \"cpu\")\n",
    "device = torch.device(\"cuda\" if torch.cuda.is_available() else device)"
   ]
  },
  {
   "cell_type": "code",
   "execution_count": null,
   "metadata": {},
   "outputs": [],
   "source": [
    "dataset = load_dataset(\"../dataset/train.csv\")\n",
    "dataset_size = len(dataset)"
   ]
  },
  {
   "cell_type": "code",
   "execution_count": null,
   "metadata": {},
   "outputs": [],
   "source": [
    "tokenizer = torchtext.data.get_tokenizer(\"basic_english\")\n",
    "\n",
    "def create_vocab(dataset):\n",
    "    counter = collections.Counter()\n",
    "    for query, _ in dataset:\n",
    "        counter.update(tokenizer(query))\n",
    "    return torchtext.vocab.vocab(counter, min_freq=1)\n",
    "\n",
    "vocab = create_vocab(dataset)\n",
    "vocab_size = len(vocab)"
   ]
  },
  {
   "cell_type": "code",
   "execution_count": null,
   "metadata": {},
   "outputs": [],
   "source": [
    "batch_size = 16\n",
    "query_len = 100\n",
    "\n",
    "def pad_tensor(tensor, length):\n",
    "    return torch.nn.functional.pad(tensor, (0, length - len(tensor)), mode='constant', value=0)\n",
    "\n",
    "def process_batch(batch):\n",
    "    labels = []\n",
    "    tokens = [tokenizer(query) for query, _ in batch]\n",
    "    encoded = [vocab.lookup_indices(tokens) for tokens in tokens]\n",
    "\n",
    "    for _, label in batch:\n",
    "        labels.append(int(label))\n",
    "\n",
    "    l = max(map(len, tokens))\n",
    "\n",
    "    padded_tensors = [pad_tensor(torch.LongTensor(t), l) for t in encoded]\n",
    "    stacked_tensors = torch.stack(padded_tensors)\n",
    "\n",
    "    return (stacked_tensors,\n",
    "            torch.LongTensor(labels))\n",
    "\n",
    "train_loader = DataLoader(dataset, batch_size=batch_size, collate_fn=process_batch, shuffle=True)"
   ]
  },
  {
   "cell_type": "code",
   "execution_count": null,
   "metadata": {},
   "outputs": [],
   "source": [
    "class BiLSTMClassifier(nn.Module):\n",
    "    def __init__(self):\n",
    "        super(BiLSTMClassifier, self).__init__()\n",
    "        self.embedding = torch.nn.Embedding(num_embeddings=vocab_size, embedding_dim=128)\n",
    "        self.bilstm = torch.nn.LSTM(128, 64, batch_first=True, bidirectional=True)\n",
    "        self.fc = nn.Linear(64*2, 2)\n",
    "\n",
    "    def forward(self, x):\n",
    "        x = self.embedding(x)\n",
    "        x, _ = self.bilstm(x)\n",
    "        x = self.fc(x[:, -1, :])\n",
    "\n",
    "        return x\n",
    "\n",
    "network = BiLSTMClassifier().to(device)"
   ]
  },
  {
   "cell_type": "code",
   "execution_count": null,
   "metadata": {},
   "outputs": [],
   "source": [
    "hyperparameters = {\n",
    "    \"learning_rate\": 0.01,\n",
    "    \"epoch\": 30,\n",
    "    \"optimizer\": optim.SGD(network.parameters(), lr=0.01),\n",
    "    \"lr_scheduler\": None,\n",
    "    \"loss_fn\": nn.CrossEntropyLoss(),\n",
    "}\n",
    "\n",
    "loss, accurancy = train(network, train_loader, device, dataset_size, 20, hyperparameters)\n",
    "print(f\"loss={loss}, accurancy={accurancy}\")\n",
    "\n",
    "# Save the model\n",
    "torch.save(network.state_dict(), 'model.pth')"
   ]
  },
  {
   "cell_type": "code",
   "execution_count": null,
   "metadata": {},
   "outputs": [],
   "source": [
    "test_dataset = load_dataset(\"../dataset/test.csv\")\n",
    "model = BiLSTMClassifier()\n",
    "model.load_state_dict(torch.load('model.pth'))\n",
    "\n",
    "test_loader = DataLoader(test_dataset, batch_size=batch_size, collate_fn=process_batch, shuffle=True)\n",
    "test(model, test_loader, device, dataset_size, 130)"
   ]
  }
 ],
 "metadata": {
  "kernelspec": {
   "display_name": "venv",
   "language": "python",
   "name": "python3"
  },
  "language_info": {
   "codemirror_mode": {
    "name": "ipython",
    "version": 3
   },
   "file_extension": ".py",
   "mimetype": "text/x-python",
   "name": "python",
   "nbconvert_exporter": "python",
   "pygments_lexer": "ipython3",
   "version": "3.11.2"
  }
 },
 "nbformat": 4,
 "nbformat_minor": 2
}
