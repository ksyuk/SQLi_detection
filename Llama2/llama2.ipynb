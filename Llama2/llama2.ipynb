{
 "cells": [
  {
   "cell_type": "code",
   "execution_count": 2,
   "metadata": {},
   "outputs": [],
   "source": [
    "import re\n",
    "import sys\n",
    "import time\n",
    "sys.path.insert(0, './..')\n",
    "\n",
    "import transformers\n",
    "from transformers import AutoTokenizer\n",
    "\n",
    "from utils import load_dataset, calculate_classification_metric, plot_inference_time_histogram, write_classification_metric"
   ]
  },
  {
   "cell_type": "code",
   "execution_count": null,
   "metadata": {},
   "outputs": [],
   "source": [
    "dataset = load_dataset('./../dataset/test.csv')"
   ]
  },
  {
   "cell_type": "code",
   "execution_count": null,
   "metadata": {},
   "outputs": [],
   "source": [
    "model = 'meta-llama/Llama-2-7b-chat-hf'"
   ]
  },
  {
   "cell_type": "code",
   "execution_count": null,
   "metadata": {},
   "outputs": [],
   "source": [
    "tokenizer = AutoTokenizer.from_pretrained(model, device_map='auto')\n",
    "model = transformers.AutoModelForCausalLM.from_pretrained(model, device_map='auto')"
   ]
  },
  {
   "cell_type": "code",
   "execution_count": null,
   "metadata": {},
   "outputs": [],
   "source": [
    "classification_counts = {\n",
    "    'true_positives': 0,\n",
    "    'false_positives': 0,\n",
    "    'true_negatives': 0,\n",
    "    'false_negatives': 0\n",
    "}\n",
    "inference_time = []\n",
    "labels = []\n",
    "raw_queries = []\n",
    "preds = []\n",
    "\n",
    "config = transformers.GenerationConfig(do_sample=True, max_length=500, temperature=0.1, pad_token_id=tokenizer.eos_token_id, max_time=5)\n",
    "prompt = [\n",
    "    {\n",
    "        'role': 'user',\n",
    "        'content': '\\\n",
    "            <string>\\' or \\'a\\' = \\'a</string>\\\n",
    "            Distinguish if the string causes SQL injection as a web security specialist.\\\n",
    "            If the string can cause SQL injection, return 1. If not, return 0.\\\n",
    "            Return only result for answer. Do not contain explanation of result.\\\n",
    "            Answer in the form of <response>1</response> or <response>0</response>.'\n",
    "    },\n",
    "    {\n",
    "        'role': 'assistant',\n",
    "        'content': '<response>1</response>'\n",
    "    }\n",
    "]\n",
    "\n",
    "for i, (query, label) in enumerate(dataset):\n",
    "    prompt.append(\n",
    "        {\n",
    "            'role': 'user',\n",
    "            'content': f'<string>{query}</string>'\n",
    "        })\n",
    "    tokenized_prompt = tokenizer.apply_chat_template(prompt, add_generation_prompt=True, return_tensors=\"pt\")\n",
    "\n",
    "    start_time = time.time()\n",
    "    outputs = model.generate(tokenized_prompt, config)\n",
    "    inference_time.append(time.time() - start_time)\n",
    "\n",
    "    response = tokenizer.batch_decode(outputs, skip_special_tokens=True)[0]\n",
    "    try:\n",
    "        result = int(re.search(r'<response>(\\d+)</response>', response).group(1))\n",
    "    except ValueError:\n",
    "        preds.append('N/A')\n",
    "\n",
    "    labels.append(int(label))\n",
    "    raw_queries.append(query)\n",
    "    preds.append(result)\n",
    "\n",
    "    prompt.pop(2)\n",
    "\n",
    "calculate_classification_metric(classification_counts, labels, preds, raw_queries)\n",
    "write_classification_metric(classification_counts, inference_time)\n",
    "plot_inference_time_histogram(inference_time)"
   ]
  }
 ],
 "metadata": {
  "kernelspec": {
   "display_name": "venv",
   "language": "python",
   "name": "python3"
  },
  "language_info": {
   "codemirror_mode": {
    "name": "ipython",
    "version": 3
   },
   "file_extension": ".py",
   "mimetype": "text/x-python",
   "name": "python",
   "nbconvert_exporter": "python",
   "pygments_lexer": "ipython3",
   "version": "3.11.2"
  }
 },
 "nbformat": 4,
 "nbformat_minor": 2
}
