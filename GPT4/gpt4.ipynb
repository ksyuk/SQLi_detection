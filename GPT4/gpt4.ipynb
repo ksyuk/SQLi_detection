{
 "cells": [
  {
   "cell_type": "code",
   "execution_count": null,
   "metadata": {},
   "outputs": [],
   "source": [
    "import re\n",
    "import sys\n",
    "import time\n",
    "sys.path.insert(0, './..')\n",
    "\n",
    "from openai import OpenAI\n",
    "\n",
    "from dataset.edit_dataset import load_dataset\n",
    "from utils.result import calculate_classification_metric, write_classification_metric"
   ]
  },
  {
   "cell_type": "code",
   "execution_count": null,
   "metadata": {},
   "outputs": [],
   "source": [
    "dataset = load_dataset('./../dataset/test.csv')"
   ]
  },
  {
   "cell_type": "code",
   "execution_count": null,
   "metadata": {},
   "outputs": [],
   "source": [
    "model = 'gpt-4-0125-preview'"
   ]
  },
  {
   "cell_type": "code",
   "execution_count": null,
   "metadata": {},
   "outputs": [],
   "source": [
    "prompt = [\n",
    "    {\n",
    "        'role': 'system',\n",
    "        'content': '\\\n",
    "            You will be provided with a string. \\\n",
    "            Distinguish if the string causes SQL injection as a web security specialist.\\\n",
    "            If the string can cause SQL injection, return 1. If not, return 0.\\\n",
    "            Return only result for answer. Do not explain the result.'\n",
    "    },\n",
    "    {\n",
    "        'role': 'user',\n",
    "        'content': '<string>\\' or \\'a\\' = \\'a</string>'\n",
    "    },\n",
    "    {\n",
    "        'role': 'assistant',\n",
    "        'content': '1'\n",
    "    },\n",
    "    {\n",
    "        'role': 'user',\n",
    "        'content': '<string>Hello.</string>'\n",
    "    },\n",
    "    {\n",
    "        'role': 'assistant',\n",
    "        'content': '0'\n",
    "    },\n",
    "    {\n",
    "        'role': 'user',\n",
    "        'content': '<string>I am a Japanese<./string>'\n",
    "    },\n",
    "    {\n",
    "        'role': 'assistant',\n",
    "        'content': '0'\n",
    "    },\n",
    "    {\n",
    "        'role': 'user',\n",
    "        'content': '<string>-3756\\' )  union all select 1034,1034,1034--</string>'\n",
    "    },\n",
    "    {\n",
    "        'role': 'assistant',\n",
    "        'content': '1'\n",
    "    }\n",
    "]"
   ]
  },
  {
   "cell_type": "code",
   "execution_count": null,
   "metadata": {},
   "outputs": [],
   "source": [
    "classification_counts = {\n",
    "    'true_positives': 0,\n",
    "    'false_positives': 0,\n",
    "    'true_negatives': 0,\n",
    "    'false_negatives': 0\n",
    "}\n",
    "inference_time = []\n",
    "labels = []\n",
    "raw_queries = []\n",
    "preds = []\n",
    "\n",
    "client = OpenAI()\n",
    "\n",
    "for i, (query, label) in enumerate(dataset[:500]):\n",
    "    print('i', i)\n",
    "    prompt.append(\n",
    "        {\n",
    "            'role': 'user',\n",
    "            'content': f'<string>{query}</string>'\n",
    "        })\n",
    "\n",
    "    start_time = time.time()\n",
    "    chat_completion = client.chat.completions.create(\n",
    "        model=model,\n",
    "        messages=prompt,\n",
    "        temperature=0.1,\n",
    "        max_tokens=2\n",
    "    )\n",
    "    inference_time.append(time.time() - start_time)\n",
    "\n",
    "    response = chat_completion.choices[0].message.content\n",
    "    print('response:', response)\n",
    "    try:\n",
    "        result = int(re.search(r'(\\d+)', response).group(1))\n",
    "    except ValueError:\n",
    "        result = 'N/A'\n",
    "    except AttributeError:\n",
    "        result = 'N/A'\n",
    "\n",
    "    labels.append(int(label))\n",
    "    raw_queries.append(query)\n",
    "    preds.append(result)\n",
    "\n",
    "\n",
    "    print(result, label)\n",
    "    prompt.pop(9)\n",
    "\n",
    "calculate_classification_metric(classification_counts, labels, preds, raw_queries)\n",
    "write_classification_metric(classification_counts, inference_time)"
   ]
  }
 ],
 "metadata": {
  "kernelspec": {
   "display_name": "venv",
   "language": "python",
   "name": "python3"
  },
  "language_info": {
   "codemirror_mode": {
    "name": "ipython",
    "version": 3
   },
   "file_extension": ".py",
   "mimetype": "text/x-python",
   "name": "python",
   "nbconvert_exporter": "python",
   "pygments_lexer": "ipython3",
   "version": "3.11.2"
  }
 },
 "nbformat": 4,
 "nbformat_minor": 2
}
