{
 "cells": [
  {
   "cell_type": "code",
   "execution_count": null,
   "metadata": {},
   "outputs": [],
   "source": [
    "import sys\n",
    "sys.path.insert(0, './..')\n",
    "\n",
    "from utils import load_dataset\n",
    "\n",
    "from openai import OpenAI\n",
    "client = OpenAI()"
   ]
  },
  {
   "cell_type": "code",
   "execution_count": null,
   "metadata": {},
   "outputs": [],
   "source": [
    "dataset = load_dataset(\"./../dataset/sqliv1.csv\")"
   ]
  },
  {
   "cell_type": "code",
   "execution_count": null,
   "metadata": {},
   "outputs": [],
   "source": [
    "true_positives = 0\n",
    "false_positives = 0\n",
    "true_negatives = 0\n",
    "false_negatives = 0\n",
    "\n",
    "for query, label in dataset:\n",
    "    chat_completion = client.chat.completions.create(\n",
    "        model=\"gpt-3.5-turbo\",\n",
    "        messages=[\n",
    "            {\n",
    "                \"role\": \"system\",\n",
    "                \"content\": \"You are a professional in web security. \\\n",
    "                    You will be provided with a string. \\\n",
    "                    Determine if this string causes SQL injection. \\\n",
    "                    If the string can cause SQL injection, return 1. If not, return 0.\\\n",
    "                    Return only 1 or 0 for answers. Do not include an explanation.\"\n",
    "            },\n",
    "            {\n",
    "                \"role\": \"user\",\n",
    "                \"content\": query\n",
    "            }\n",
    "        ]\n",
    "    )\n",
    "\n",
    "    if label == \"1\":\n",
    "        if chat_completion.choices[0].message.content == \"1\":\n",
    "            true_positives += 1\n",
    "        else:\n",
    "            false_negatives += 1\n",
    "            with open('false_negatives.txt', 'a') as f:\n",
    "                f.write(f'query: {query}\\n')\n",
    "                f.write(f'output: {chat_completion.choices[0].message.content}\\n')\n",
    "                f.write('\\n')\n",
    "    else:\n",
    "        if chat_completion.choices[0].message.content == \"0\":\n",
    "            true_negatives += 1\n",
    "        else:\n",
    "            false_positives += 1\n",
    "            with open('false_positives.txt', 'a') as f:\n",
    "                f.write(f'query: {query}\\n')\n",
    "                f.write(f'output: {chat_completion.choices[0].message.content}\\n')\n",
    "                f.write('\\n')\n",
    "\n",
    "print(\"true positives: \", true_positives)\n",
    "print(\"false positives: \", false_positives)\n",
    "print(\"true negatives: \", true_negatives)\n",
    "print(\"false negatives: \", false_negatives)"
   ]
  }
 ],
 "metadata": {
  "kernelspec": {
   "display_name": "venv",
   "language": "python",
   "name": "python3"
  },
  "language_info": {
   "codemirror_mode": {
    "name": "ipython",
    "version": 3
   },
   "file_extension": ".py",
   "mimetype": "text/x-python",
   "name": "python",
   "nbconvert_exporter": "python",
   "pygments_lexer": "ipython3",
   "version": "3.11.2"
  }
 },
 "nbformat": 4,
 "nbformat_minor": 2
}
