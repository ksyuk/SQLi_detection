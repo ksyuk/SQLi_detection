{
 "cells": [
  {
   "cell_type": "code",
   "execution_count": null,
   "metadata": {},
   "outputs": [],
   "source": [
    "import sys\n",
    "import collections\n",
    "import re\n",
    "sys.path.insert(0, '../')\n",
    "\n",
    "from sklearn.feature_extraction.text import TfidfVectorizer\n",
    "import torch\n",
    "import torchtext\n",
    "import torch.nn as nn\n",
    "import torch.optim as optim\n",
    "import torch.nn.functional as F\n",
    "from torch.utils.data import DataLoader\n",
    "\n",
    "from utils import load_dataset, train"
   ]
  },
  {
   "cell_type": "code",
   "execution_count": null,
   "metadata": {},
   "outputs": [],
   "source": [
    "device = torch.device(\"mps\" if torch.backends.mps.is_available() else \"cpu\")\n",
    "device = torch.device(\"cuda\" if torch.cuda.is_available() else device)"
   ]
  },
  {
   "cell_type": "code",
   "execution_count": null,
   "metadata": {},
   "outputs": [],
   "source": [
    "dataset = load_dataset(\"../dataset/sqli1.csv\")\n",
    "dataset_size = len(dataset)"
   ]
  },
  {
   "cell_type": "code",
   "execution_count": null,
   "metadata": {},
   "outputs": [],
   "source": [
    "def tokenizer(query):\n",
    "    regex = r\"(\\/\\*\\*\\/|\\*\\/|\\/\\*|\\|\\||\\-\\-\\+|\\-\\-|\\&\\&|\\!\\=|\\<\\>|\\d{1,3}\\.\\d{1,3}\\.\\d{1,3}\\.\\d{1,3}|[\\w]+|.)\"\n",
    "    words = [word for word in re.split(regex, query) if word]\n",
    "    return words\n",
    "\n",
    "with open('../dataset/sqli1.csv', 'r') as file:\n",
    "    lines = file.readlines()\n",
    "\n",
    "queries = [line.split(',')[0] for line in lines]\n",
    "\n",
    "vectorizer = TfidfVectorizer(tokenizer=tokenizer)\n",
    "vectorizer.fit(queries[1:])"
   ]
  },
  {
   "cell_type": "code",
   "execution_count": null,
   "metadata": {},
   "outputs": [],
   "source": [
    "x = vectorizer.transform([\"' AND 1 = utl_inaddr.get_host_address  (  (  SELECT banner FROM v$version WHERE ROWNUM = 1  )  )   AND 'i' = 'i\"])\n",
    "x[x.toarray().nonzero()]"
   ]
  },
  {
   "cell_type": "code",
   "execution_count": null,
   "metadata": {},
   "outputs": [],
   "source": [
    "batch_size = 100\n",
    "\n",
    "def process_batch(batch):\n",
    "    queries = torch.Tensor()\n",
    "    labels = []\n",
    "    for query, label in batch:\n",
    "        x = vectorizer.transform([query]).toarray()\n",
    "        queries = torch.cat((queries, x.nonzero()))\n",
    "        labels.append(int(label))\n",
    "\n",
    "    return (queries,\n",
    "            torch.LongTensor(labels))\n",
    "\n",
    "train_loader = DataLoader(dataset, batch_size=batch_size, collate_fn=process_batch, shuffle=True)"
   ]
  },
  {
   "cell_type": "code",
   "execution_count": null,
   "metadata": {},
   "outputs": [],
   "source": [
    "class BiLSTMNN(nn.Module):\n",
    "    def __init__(self):\n",
    "        super(BiLSTMNN, self).__init__()\n",
    "        self.embedding = torch.nn.Embedding(num_embeddings=vocab_size, embedding_dim=32)\n",
    "        self.bilstm = torch.nn.LSTM(10906, 32, batch_first=True, bidirectional=True)\n",
    "        self.dropout = nn.Dropout(0.2)\n",
    "        self.fc = nn.Linear(64, 2)\n",
    "\n",
    "    def forward(self, x):\n",
    "        x = self.bilstm(x)\n",
    "        x = torch.add(x[0], x[1])\n",
    "        x = self.dropout(x)\n",
    "        x = self.fc(x)\n",
    "\n",
    "        return x\n",
    "\n",
    "network = BiLSTMNN().to(device)"
   ]
  },
  {
   "cell_type": "code",
   "execution_count": null,
   "metadata": {},
   "outputs": [],
   "source": [
    "hyperparameters = {\n",
    "    \"learning_rate\": 0.01,\n",
    "    \"epoch\": 50,\n",
    "    \"optimizer\": optim.Adam(network.parameters(), lr=0.01),\n",
    "    \"loss_fn\": nn.CrossEntropyLoss(),\n",
    "}\n",
    "\n",
    "train(network, train_loader, device, dataset_size, 130, hyperparameters)"
   ]
  }
 ],
 "metadata": {
  "kernelspec": {
   "display_name": "venv",
   "language": "python",
   "name": "python3"
  },
  "language_info": {
   "codemirror_mode": {
    "name": "ipython",
    "version": 3
   },
   "file_extension": ".py",
   "mimetype": "text/x-python",
   "name": "python",
   "nbconvert_exporter": "python",
   "pygments_lexer": "ipython3",
   "version": "3.11.2"
  }
 },
 "nbformat": 4,
 "nbformat_minor": 2
}
