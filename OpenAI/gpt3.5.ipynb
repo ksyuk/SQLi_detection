{
 "cells": [
  {
   "cell_type": "code",
   "execution_count": null,
   "metadata": {},
   "outputs": [],
   "source": [
    "import sys\n",
    "sys.path.insert(0, './..')\n",
    "\n",
    "from utils import load_dataset\n",
    "\n",
    "from openai import OpenAI\n",
    "client = OpenAI()"
   ]
  },
  {
   "cell_type": "code",
   "execution_count": null,
   "metadata": {},
   "outputs": [],
   "source": [
    "dataset = load_dataset(\"./../dataset/sqliv1.csv\")"
   ]
  },
  {
   "cell_type": "code",
   "execution_count": null,
   "metadata": {},
   "outputs": [],
   "source": [
    "correct_num = 0\n",
    "i = 0\n",
    "for query, label in dataset:\n",
    "    chat_completion = client.chat.completions.create(\n",
    "        model=\"gpt-3.5-turbo\",\n",
    "        messages=[\n",
    "            {\n",
    "                \"role\": \"system\",\n",
    "                \"content\": \"You are a professional in web security. \\\n",
    "                    You will be provided with a string. \\\n",
    "                    Determine if this string causes SQL injection. \\\n",
    "                    If the string can cause SQL injection, return 1. If not, return 0.\\\n",
    "                    Return only 1 or 0 for answers. Do not include an explanation.\"\n",
    "            },\n",
    "            {\n",
    "                \"role\": \"user\",\n",
    "                \"content\": query\n",
    "            }\n",
    "        ]\n",
    "    )\n",
    "\n",
    "    output = chat_completion.choices[0].message.content\n",
    "    correct_num += output == label\n",
    "\n",
    "    print(output, label)\n",
    "\n",
    "    i += 1\n",
    "    if i == 10:\n",
    "        break\n",
    "\n",
    "print(\"correct_num\", correct_num)\n",
    "print(correct_num / len(dataset))"
   ]
  }
 ],
 "metadata": {
  "kernelspec": {
   "display_name": "venv",
   "language": "python",
   "name": "python3"
  },
  "language_info": {
   "codemirror_mode": {
    "name": "ipython",
    "version": 3
   },
   "file_extension": ".py",
   "mimetype": "text/x-python",
   "name": "python",
   "nbconvert_exporter": "python",
   "pygments_lexer": "ipython3",
   "version": "3.11.2"
  }
 },
 "nbformat": 4,
 "nbformat_minor": 2
}
