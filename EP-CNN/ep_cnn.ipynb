{
 "cells": [
  {
   "cell_type": "code",
   "execution_count": null,
   "metadata": {},
   "outputs": [],
   "source": [
    "import sys\n",
    "sys.path.insert(0, './..')\n",
    "\n",
    "import numpy as np\n",
    "import torch\n",
    "import torch.nn as nn\n",
    "import torch.optim as optim\n",
    "import torch.nn.functional as F\n",
    "from torch.utils.data import DataLoader\n",
    "import gensim.models\n",
    "\n",
    "from utils import load_dataset, count_model_parameters, train_model, test_model"
   ]
  },
  {
   "cell_type": "code",
   "execution_count": null,
   "metadata": {},
   "outputs": [],
   "source": [
    "device = torch.device(\"mps\" if torch.backends.mps.is_available() else \"cpu\")\n",
    "device = torch.device(\"cuda\" if torch.cuda.is_available() else device)"
   ]
  },
  {
   "cell_type": "code",
   "execution_count": null,
   "metadata": {},
   "outputs": [],
   "source": [
    "dataset = load_dataset(\"../dataset/dataset.csv\")\n",
    "train_dataset = load_dataset(\"../dataset/train.csv\")\n",
    "test_dataset = load_dataset(\"../dataset/test.csv\")\n",
    "train_size = len(train_dataset)"
   ]
  },
  {
   "cell_type": "code",
   "execution_count": null,
   "metadata": {},
   "outputs": [],
   "source": [
    "class TrainDataset:\n",
    "    def __iter__(self):\n",
    "        for data in train_dataset:\n",
    "            yield data[0]\n",
    "\n",
    "word_model = gensim.models.Word2Vec(sentences=TrainDataset(), vector_size=32).wv"
   ]
  },
  {
   "cell_type": "code",
   "execution_count": null,
   "metadata": {},
   "outputs": [],
   "source": [
    "batch_size = 16\n",
    "max_length = 256\n",
    "p = 128\n",
    "fill_zero = [0 for _ in range(32)]\n",
    "fill_one = [1 for _ in range(32)]\n",
    "\n",
    "def get_char_vector(query):\n",
    "    char_vec = []\n",
    "\n",
    "    if len(query) == 1:\n",
    "        try:\n",
    "            char_vec.append(word_model[query])\n",
    "        except KeyError:\n",
    "            char_vec.append(fill_one)\n",
    "    else:\n",
    "        for char in query:\n",
    "            try:\n",
    "                char_vec.append(word_model[char])\n",
    "            except KeyError:\n",
    "                char_vec.append(fill_one)\n",
    "\n",
    "            if len(char_vec) == max_length:\n",
    "                break\n",
    "    while len(char_vec) < max_length:\n",
    "        char_vec.append(fill_one)\n",
    "\n",
    "    return char_vec\n",
    "\n",
    "\n",
    "def process_batch(batch):\n",
    "    query_vec = []\n",
    "    labels = []\n",
    "\n",
    "    for query, lable in batch:\n",
    "        query_vec.append(get_char_vector(query))\n",
    "        labels.append(int(lable))\n",
    "\n",
    "    query_vec = np.array(query_vec)\n",
    "    labels = np.array(labels)\n",
    "\n",
    "    return (torch.from_numpy(query_vec).view(len(batch), 1, max_length, 32).to(device), torch.from_numpy(labels).long().to(device))\n",
    "\n",
    "train_loader = DataLoader(train_dataset, batch_size=batch_size, collate_fn=process_batch, shuffle=True)"
   ]
  },
  {
   "cell_type": "code",
   "execution_count": null,
   "metadata": {},
   "outputs": [],
   "source": [
    "class EPCNNClassifier(nn.Module):\n",
    "    def __init__(self):\n",
    "        super(EPCNNClassifier, self).__init__()\n",
    "        self.conv1_1 = nn.Conv2d(1, 32, kernel_size=(1, 1), padding=1)\n",
    "        self.conv1_3 = nn.Conv2d(1, 32, kernel_size=(3, 3), padding=1)\n",
    "        self.conv1_5 = nn.Conv2d(1, 32, kernel_size=(5, 5), padding=1)\n",
    "        self.conv2_1 = nn.Conv2d(32, 64, kernel_size=(1, 1), padding=1)\n",
    "        self.conv2_3 = nn.Conv2d(32, 64, kernel_size=(3, 3), padding=1)\n",
    "        self.conv2_5 = nn.Conv2d(32, 64, kernel_size=(5, 5), padding=1)\n",
    "        self.conv3 = nn.Conv2d(64, 128, kernel_size=(3, 3), padding=1)\n",
    "        self.conv4 = nn.Conv2d(128, 256, kernel_size=(3, 3), padding=1)\n",
    "        self.conv5 = nn.Conv2d(256, 512, kernel_size=(3, 3), padding=1)\n",
    "        self.dropout1 = nn.Dropout(0.25)\n",
    "        self.dropout2 = nn.Dropout(0.5)\n",
    "        self.fc1 = nn.Linear(40448, 128)\n",
    "        self.fc2 = nn.Linear(128, 2)\n",
    "\n",
    "    def forward(self, x):\n",
    "        x_1 = F.relu(self.conv1_1(x))\n",
    "        x_1 = F.relu(self.conv2_1(x_1))\n",
    "        x_1 = F.max_pool2d(x_1, 2)\n",
    "        x_1 = self._common_formard(x_1)\n",
    "\n",
    "        x_3 = F.relu(self.conv1_3(x))\n",
    "        x_3 = F.relu(self.conv2_3(x_3))\n",
    "        x_3 = F.max_pool2d(x_3, 2)\n",
    "        x_3 = self._common_formard(x_3)\n",
    "\n",
    "        x_5 = F.relu(self.conv1_5(x))\n",
    "        x_5 = F.relu(self.conv2_5(x_5))\n",
    "        x_5 = F.max_pool2d(x_5, 2)\n",
    "        x_5 = self._common_formard(x_5)\n",
    "\n",
    "        x = torch.cat([x_1, x_3, x_5], dim=1)\n",
    "        x = F.relu(self.fc1(x))\n",
    "        x = self.dropout2(x)\n",
    "        x = self.fc2(x)\n",
    "        out = F.log_softmax(x, dim=1)\n",
    "\n",
    "        return out\n",
    "\n",
    "    def _common_formard(self, x):\n",
    "        x = F.relu(self.conv3(x))\n",
    "        x = F.max_pool2d(x, 2)\n",
    "\n",
    "        x = F.relu(self.conv4(x))\n",
    "        x = self._elastic_pool(x)\n",
    "\n",
    "        x = F.relu(self.conv5(x))\n",
    "        x = F.max_pool2d(x, 2)\n",
    "\n",
    "        x = self.dropout1(x)\n",
    "        x = nn.Flatten()(x)\n",
    "\n",
    "        return x\n",
    "\n",
    "    def _elastic_pool(self, x):\n",
    "        num_rows = x.shape[1] // p\n",
    "        return F.max_pool2d(x, (num_rows, 2))\n",
    "\n",
    "model = EPCNNClassifier().to(device)"
   ]
  },
  {
   "cell_type": "code",
   "execution_count": null,
   "metadata": {},
   "outputs": [],
   "source": [
    "hyperparameters = {\n",
    "    \"epoch\": 4,\n",
    "    \"optimizer\": optim.Adadelta(model.parameters(), lr=0.01),\n",
    "    \"lr_scheduler\": None,\n",
    "    \"loss_fn\": nn.CrossEntropyLoss(),\n",
    "}\n",
    "\n",
    "train_model(model, train_loader, train_size, 180, hyperparameters)\n",
    "\n",
    "# Save the model\n",
    "torch.save(model.state_dict(), 'model.pth')"
   ]
  },
  {
   "cell_type": "code",
   "execution_count": null,
   "metadata": {},
   "outputs": [],
   "source": [
    "model = EPCNNClassifier()\n",
    "model.load_state_dict(torch.load('model.pth'))\n",
    "model = model.to(device)"
   ]
  },
  {
   "cell_type": "code",
   "execution_count": null,
   "metadata": {},
   "outputs": [],
   "source": [
    "count_model_parameters(model)"
   ]
  },
  {
   "cell_type": "code",
   "execution_count": null,
   "metadata": {},
   "outputs": [],
   "source": [
    "def process_test_batch(batch):\n",
    "    raw_queries = [query for query, _ in batch]\n",
    "    query_vec = []\n",
    "    labels = []\n",
    "\n",
    "    for query, lable in batch:\n",
    "        query_vec.append(get_char_vector(query))\n",
    "        labels.append(int(lable))\n",
    "\n",
    "    return (torch.Tensor(query_vec).view(len(batch), 1, max_length, 32).to(device),\n",
    "            torch.LongTensor(labels).to(device),\n",
    "            raw_queries.to(device))\n",
    "\n",
    "test_loader = DataLoader(test_dataset, batch_size=128, collate_fn=process_test_batch, shuffle=True)\n",
    "test_model(model, test_loader)"
   ]
  }
 ],
 "metadata": {
  "kernelspec": {
   "display_name": "venv",
   "language": "python",
   "name": "python3"
  },
  "language_info": {
   "codemirror_mode": {
    "name": "ipython",
    "version": 3
   },
   "file_extension": ".py",
   "mimetype": "text/x-python",
   "name": "python",
   "nbconvert_exporter": "python",
   "pygments_lexer": "ipython3",
   "version": "3.11.2"
  }
 },
 "nbformat": 4,
 "nbformat_minor": 2
}
