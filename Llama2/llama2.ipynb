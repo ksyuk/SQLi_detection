{
 "cells": [
  {
   "cell_type": "code",
   "execution_count": 2,
   "metadata": {},
   "outputs": [],
   "source": [
    "import re\n",
    "import sys\n",
    "import time\n",
    "sys.path.insert(0, './..')\n",
    "\n",
    "import transformers\n",
    "from transformers import AutoTokenizer\n",
    "\n",
    "from utils import load_dataset, calculate_classification_metric, write_classification_metric"
   ]
  },
  {
   "cell_type": "code",
   "execution_count": null,
   "metadata": {},
   "outputs": [],
   "source": [
    "dataset = load_dataset('./../dataset/test.csv')"
   ]
  },
  {
   "cell_type": "code",
   "execution_count": null,
   "metadata": {},
   "outputs": [],
   "source": [
    "model = 'meta-llama/Llama-2-7b-chat-hf'"
   ]
  },
  {
   "cell_type": "code",
   "execution_count": null,
   "metadata": {},
   "outputs": [],
   "source": [
    "tokenizer = AutoTokenizer.from_pretrained(model, device_map='auto')\n",
    "model = transformers.AutoModelForCausalLM.from_pretrained(model, device_map='auto')"
   ]
  },
  {
   "cell_type": "code",
   "execution_count": null,
   "metadata": {},
   "outputs": [],
   "source": [
    "prompt = [\n",
    "    {\n",
    "        'role': 'system',\n",
    "        'content': '\\\n",
    "            You will be provided with a string. \\\n",
    "            Distinguish if the string causes SQL injection as a web security specialist.\\\n",
    "            If the string can cause SQL injection, return 1. If not, return 0.\\\n",
    "            Return only result for answer. Do not explain the result.'\n",
    "    },\n",
    "    {\n",
    "        'role': 'user',\n",
    "        'content': '<string>\\' or \\'a\\' = \\'a</string>'\n",
    "    },\n",
    "    {\n",
    "        'role': 'assistant',\n",
    "        'content': '1'\n",
    "    },\n",
    "    {\n",
    "        'role': 'user',\n",
    "        'content': '<string>Hello.</string>'\n",
    "    },\n",
    "    {\n",
    "        'role': 'assistant',\n",
    "        'content': '0'\n",
    "    },\n",
    "    {\n",
    "        'role': 'user',\n",
    "        'content': '<string>I am a Japanese<./string>'\n",
    "    },\n",
    "    {\n",
    "        'role': 'assistant',\n",
    "        'content': '0'\n",
    "    },\n",
    "    {\n",
    "        'role': 'user',\n",
    "        'content': '<string>-3756\\' )  union all select 1034,1034,1034--</string>'\n",
    "    },\n",
    "    {\n",
    "        'role': 'assistant',\n",
    "        'content': '1'\n",
    "    }\n",
    "]"
   ]
  },
  {
   "cell_type": "code",
   "execution_count": null,
   "metadata": {},
   "outputs": [],
   "source": [
    "classification_counts = {\n",
    "    'true_positives': 0,\n",
    "    'false_positives': 0,\n",
    "    'true_negatives': 0,\n",
    "    'false_negatives': 0\n",
    "}\n",
    "inference_time = []\n",
    "labels = []\n",
    "raw_queries = []\n",
    "preds = []\n",
    "\n",
    "config = transformers.GenerationConfig(do_sample=True, temperature=0.1, pad_token_id=tokenizer.eos_token_id, max_time=2)\n",
    "for i, (query, label) in enumerate(dataset[:10]):\n",
    "    prompt.append(\n",
    "        {\n",
    "            'role': 'user',\n",
    "            'content': f'<string>{query}</string>'\n",
    "        })\n",
    "    tokenized_prompt = tokenizer.apply_chat_template(prompt, add_generation_prompt=True, return_tensors=\"pt\")\n",
    "\n",
    "    start_time = time.time()\n",
    "    outputs = model.generate(tokenized_prompt, config, max_length=len(tokenized_prompt[0])+2)\n",
    "    inference_time.append(time.time() - start_time)\n",
    "\n",
    "    response = tokenizer.batch_decode(outputs, skip_special_tokens=True)[0]\n",
    "    print(response[-3:])\n",
    "    try:\n",
    "        result = int(re.search(r'(\\d+)', response[-3:]).group(1))\n",
    "    except ValueError:\n",
    "        result = 'N/A'\n",
    "    except AttributeError:\n",
    "        result = 'N/A'\n",
    "\n",
    "    labels.append(int(label))\n",
    "    raw_queries.append(query)\n",
    "    preds.append(result)\n",
    "\n",
    "    print(i, result, label)\n",
    "    prompt.pop(9)\n",
    "\n",
    "calculate_classification_metric(classification_counts, labels, preds, raw_queries)\n",
    "write_classification_metric(classification_counts, inference_time)"
   ]
  }
 ],
 "metadata": {
  "kernelspec": {
   "display_name": "venv",
   "language": "python",
   "name": "python3"
  },
  "language_info": {
   "codemirror_mode": {
    "name": "ipython",
    "version": 3
   },
   "file_extension": ".py",
   "mimetype": "text/x-python",
   "name": "python",
   "nbconvert_exporter": "python",
   "pygments_lexer": "ipython3",
   "version": "3.11.2"
  }
 },
 "nbformat": 4,
 "nbformat_minor": 2
}
