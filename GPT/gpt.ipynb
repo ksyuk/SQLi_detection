{
 "cells": [
  {
   "cell_type": "code",
   "execution_count": null,
   "metadata": {},
   "outputs": [],
   "source": [
    "import sys\n",
    "import time\n",
    "sys.path.insert(0, './..')\n",
    "\n",
    "from utils import load_dataset, calculate_classification_metric, write_classification_metric\n",
    "\n",
    "from openai import OpenAI\n",
    "client = OpenAI()"
   ]
  },
  {
   "cell_type": "code",
   "execution_count": null,
   "metadata": {},
   "outputs": [],
   "source": [
    "dataset = load_dataset('./../dataset/test.csv')"
   ]
  },
  {
   "cell_type": "code",
   "execution_count": null,
   "metadata": {},
   "outputs": [],
   "source": [
    "model = 'gpt3.5-turbo'\n",
    "# model = 'gpt-4-1106-preview'"
   ]
  },
  {
   "cell_type": "code",
   "execution_count": null,
   "metadata": {},
   "outputs": [],
   "source": [
    "classification_counts = {\n",
    "    'true_positives': 0,\n",
    "    'false_positives': 0,\n",
    "    'true_negatives': 0,\n",
    "    'false_negatives': 0\n",
    "}\n",
    "inference_time = []\n",
    "labels = []\n",
    "raw_queries = []\n",
    "preds = []\n",
    "\n",
    "for query, label in dataset:\n",
    "    start_time = time.time()\n",
    "    chat_completion = client.chat.completions.create(\n",
    "        model=model,\n",
    "        messages=[\n",
    "            {\n",
    "                'role': 'system',\n",
    "                'content': '\\\n",
    "                    You will be provided with a string. \\\n",
    "                    Distinguish if the string causes SQL injection \\\n",
    "                    as a web security specialist. \\\n",
    "                    If the string can cause SQL injection, return 1. If not, return 0.\\\n",
    "                    Return only 1 or 0 for answer.'\n",
    "            },\n",
    "            {\n",
    "                'role': 'user',\n",
    "                'content': query\n",
    "            }\n",
    "        ]\n",
    "    )\n",
    "    inference_time.append(time.time() - start_time)\n",
    "\n",
    "    labels.append(label)\n",
    "    raw_queries.append(query)\n",
    "    preds.append(chat_completion.choices[0].message.content)\n",
    "\n",
    "calculate_classification_metric(classification_counts, labels, preds, raw_queries)\n",
    "write_classification_metric(classification_counts, inference_time)"
   ]
  }
 ],
 "metadata": {
  "kernelspec": {
   "display_name": "venv",
   "language": "python",
   "name": "python3"
  },
  "language_info": {
   "codemirror_mode": {
    "name": "ipython",
    "version": 3
   },
   "file_extension": ".py",
   "mimetype": "text/x-python",
   "name": "python",
   "nbconvert_exporter": "python",
   "pygments_lexer": "ipython3",
   "version": "3.11.2"
  }
 },
 "nbformat": 4,
 "nbformat_minor": 2
}
